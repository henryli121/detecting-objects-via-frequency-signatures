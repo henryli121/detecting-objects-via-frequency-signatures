{
 "cells": [
  {
   "cell_type": "code",
   "execution_count": null,
   "id": "092c27d7-be40-49ce-90cd-0fa3e8143ac8",
   "metadata": {},
   "outputs": [],
   "source": [
    "import numpy as np\n",
    "import os\n",
    "import matplotlib.pyplot as plt\n",
    "import matplotlib.image as image\n",
    "import scipy.io\n",
    "import copy\n",
    "\n",
    "#from mpl_toolkits.mplot3d import Axes3D\n",
    "\n",
    "from mpl_toolkits import mplot3d\n",
    "from scipy.fft import fft, ifft, fft2, ifft2, fftshift, fftn, ifftn"
   ]
  },
  {
   "cell_type": "code",
   "execution_count": null,
   "id": "303eaed4-f962-47c8-9cff-8b1135d1f0f4",
   "metadata": {},
   "outputs": [],
   "source": [
    "cwd = os.getcwd()\n",
    "Kraken = scipy.io.loadmat('Kraken.mat')['Kraken']"
   ]
  },
  {
   "cell_type": "code",
   "execution_count": null,
   "id": "5b54c8dc-aadf-49f9-806d-84ca57303931",
   "metadata": {},
   "outputs": [],
   "source": [
    "Kraken.shape"
   ]
  },
  {
   "cell_type": "code",
   "execution_count": null,
   "id": "a01a9e9f-7305-47e5-baec-beb25e753d8d",
   "metadata": {
    "tags": []
   },
   "outputs": [],
   "source": [
    "L = 10\n",
    "n = 64\n",
    "threshold = 0.5\n",
    "\n",
    "x2 = np.linspace(-L, L, n+1)\n",
    "x = x2[:n]\n",
    "y = x\n",
    "z = x\n",
    "k = (2*np.pi/(2*L))*np.concatenate([np.arange(n/2),-1 * np.flip(np.arange(n/2)+1)])"
   ]
  },
  {
   "cell_type": "code",
   "execution_count": null,
   "id": "4263c07d-17e8-4b3a-a19f-25fb968d6032",
   "metadata": {},
   "outputs": [],
   "source": [
    "X, Y, Z = np.meshgrid(x, y, z)\n",
    "Kx, Ky, Kz = np.meshgrid(ks, ks, ks)\n",
    "\n",
    "# for j in range(1, 50):\n",
    "#     Un = np.reshape(Kraken[:, j-1], (n, n, n))\n",
    "#     M = np.max(np.abs(Un))\n",
    "#     V = abs(Un)/M\n",
    "#     fig = go.Figure(data=go.Isosurface(\n",
    "#     x=X.flatten(),\n",
    "#     y=Y.flatten(),\n",
    "#     z=Z.flatten(),\n",
    "#     value=V.flatten(),\n",
    "#     isomin = threshold,\n",
    "#     isomax=1,\n",
    "#     caps=dict(x_show=False, y_show=False)\n",
    "#     ))\n",
    "#     fig_widget = go.FigureWidget(fig)\n",
    "#     #fig_widget.show()\n",
    "#     #input(\"Press Enter to continue...\")"
   ]
  },
  {
   "cell_type": "code",
   "execution_count": null,
   "id": "29955c8a-0300-482b-b0ab-bc21602eb675",
   "metadata": {
    "tags": []
   },
   "outputs": [],
   "source": [
    "#realization \n",
    "Ut_sum = 0\n",
    "\n",
    "for i in range(49):\n",
    "    U = np.reshape(Kraken[:, i], (n, n, n),order = 'f')\n",
    "    Ut = np.fft.fftn(U)\n",
    "    Ut_sum += Ut\n",
    "\n",
    "A1 = copy.copy(Ut_sum)\n",
    "\n",
    "#Average\n",
    "\n",
    "ave = Ut_sum/49\n",
    "A2 = copy.copy(ave)"
   ]
  },
  {
   "cell_type": "code",
   "execution_count": null,
   "id": "f4568fdc-f883-4ff6-a628-1cffb7037eee",
   "metadata": {},
   "outputs": [],
   "source": [
    "max_x = np.unravel_index(np.argmax(np.abs(ave)), ave.shape)[0]\n",
    "max_y = np.unravel_index(np.argmax(np.abs(ave)), ave.shape)[1]\n",
    "max_z = np.unravel_index(np.argmax(np.abs(ave)), ave.shape)[2]"
   ]
  },
  {
   "cell_type": "code",
   "execution_count": null,
   "id": "1111ad4f-1341-406a-8726-1918f2039897",
   "metadata": {},
   "outputs": [],
   "source": [
    "print(max_x,max_y,max_z)"
   ]
  },
  {
   "cell_type": "code",
   "execution_count": null,
   "id": "d5d828ae-c493-458e-b34a-516dc7e8d721",
   "metadata": {},
   "outputs": [],
   "source": [
    "A3 = copy.copy(k[max_x])\n",
    "A4 = copy.copy(k[max_y])\n",
    "A5 = copy.copy(k[max_z])"
   ]
  },
  {
   "cell_type": "code",
   "execution_count": null,
   "id": "c43f6ead-2f40-4a86-a3d4-9b483450aa19",
   "metadata": {},
   "outputs": [],
   "source": [
    "##### define the filter\n",
    "\n",
    "tau = 1/L\n",
    "\n",
    "kx = k[max_x]\n",
    "ky = k[max_y]\n",
    "kz = k[max_z]\n",
    "\n",
    "xx, yy, zz = np.meshgrid((k - kx),(k - ky),(k - kz), indexing='ij')\n",
    "filter_g = np.exp(-tau*(xx**2+yy**2+zz**2))\n",
    "A6 = copy.copy(filter_g)"
   ]
  },
  {
   "cell_type": "code",
   "execution_count": null,
   "id": "7e43422e-50ac-4395-8a54-5fdc44a56c0f",
   "metadata": {},
   "outputs": [],
   "source": [
    "filter_g.shape"
   ]
  },
  {
   "cell_type": "code",
   "execution_count": null,
   "id": "81c8db16-b2f1-408c-8780-d9f37802ceea",
   "metadata": {},
   "outputs": [],
   "source": [
    "loc_x = []\n",
    "loc_y = []\n",
    "loc_z = []\n",
    "for i in range(49):\n",
    "    U = np.reshape(Kraken[:, i], (n, n, n),order = 'f')\n",
    "    Ut = np.fft.fftn(U)\n",
    "    filter_U = Ut*filter_g\n",
    "    unf = np.fft.ifftn(filter_U)\n",
    "    loc_X = np.unravel_index(np.argmax(np.abs(unf)), unf.shape)[0]\n",
    "    loc_Y = np.unravel_index(np.argmax(np.abs(unf)), unf.shape)[1]\n",
    "    loc_Z = np.unravel_index(np.argmax(np.abs(unf)), unf.shape)[2]\n",
    "    loc_x = np.append(loc_x,x[loc_X])\n",
    "    loc_y = np.append(loc_y,x[loc_Y])\n",
    "    loc_z = np.append(loc_z,x[loc_Z])"
   ]
  },
  {
   "cell_type": "code",
   "execution_count": null,
   "id": "ce983fa1-3b95-46af-9a5f-c6ff3a423713",
   "metadata": {},
   "outputs": [],
   "source": [
    "A7 = loc_x.reshape((1,49))\n",
    "A8 = loc_y.reshape((1,49))\n",
    "A9 = loc_z.reshape((1,49))"
   ]
  },
  {
   "cell_type": "code",
   "execution_count": null,
   "id": "81282488-d1de-41bb-bde0-ff88cb661b63",
   "metadata": {},
   "outputs": [],
   "source": [
    "from scipy.interpolate import make_interp_spline, BSpline\n",
    "import seaborn as sns\n",
    "sns.set()\n",
    "\n",
    "\n",
    "fig = plt.figure(figsize = ([10,10]))\n",
    "param = np.linspace(0, 1, loc_x.size)\n",
    "spl = make_interp_spline(param, np.c_[loc_x,loc_y], k=2) #(1)\n",
    "xnew, y_smooth = spl(np.linspace(0, 1, x.size * 500)).T\n",
    "plt.plot(xnew, y_smooth, linewidth= 2)\n",
    "plt.title(\"Kraken's Path on (x,y) plane\")\n",
    "plt.xlabel(\"X-Axis\")\n",
    "plt.ylabel(\"Y-Axis\")\n",
    "plt.grid(True)\n",
    "plt.savefig('path00.png',dpi=600)\n",
    "plt.show()\n"
   ]
  },
  {
   "cell_type": "code",
   "execution_count": null,
   "id": "f7718aab-2ca2-4fb7-9c68-79943a6ad653",
   "metadata": {},
   "outputs": [],
   "source": [
    "fig = plt.figure()\n",
    "ax = plt.axes(projection='3d')\n",
    "plt.title(\"Kraken's Path\")\n",
    "\n",
    "xx, yy = np.meshgrid(range(-8,8), range(-8,8))\n",
    "zz = yy*0\n",
    "\n",
    "arr = image.imread('pic1.png')\n",
    "# 10 is equal length of x and y axises of your surface\n",
    "stepX, stepY = 16. / arr.shape[0], 16. / arr.shape[1]\n",
    "\n",
    "X1 = np.arange(-8, 8, stepX)\n",
    "Y1 = np.arange(-8, 8, stepY)\n",
    "X1, Y1 = np.meshgrid(X1, Y1)\n",
    "ZZ = X1*0\n",
    "# stride args allows to determine image quality \n",
    "# stride = 1 work slow\n",
    "\n",
    "ax.scatter3D(loc_x, loc_y, loc_z, s=5, c=range(len(loc_x)), cmap='autumn', alpha = 0.5, label = \"Location at each timestep\")\n",
    "ax.plot3D(loc_x, loc_y, 0, color = 'royalblue', linewidth=0.8,label=\"Kraken's path in 2D\" )\n",
    "ax.plot3D(loc_x, loc_y, loc_z, color = '#00A4CCFF', linewidth=1.5, label=\"Kraken's path in 3D\")\n",
    "\n",
    "\n",
    "ax.plot_surface(X1, Y1, ZZ+10, rstride=5, cstride=5, facecolors=arr, alpha = 0.1)\n",
    "ax.plot_surface(xx, yy, zz, rstride=1, cstride=1, alpha = 0.1)\n",
    "\n",
    "\n",
    "ax.legend(loc=1, prop={'size': 6})\n",
    "ax.set_xlim3d(-8, 8)\n",
    "ax.set_ylim3d(-8, 8)\n",
    "ax.set_zlim3d(-10, 10)\n",
    "ax.set_xlabel('X-axis')\n",
    "ax.set_ylabel('Y-axis')\n",
    "ax.set_zlabel('Z-axis')\n",
    "ax.grid(False)\n",
    "ax.view_init(20,120)\n",
    "plt.show()"
   ]
  }
 ],
 "metadata": {
  "kernelspec": {
   "display_name": "Python 3 (ipykernel)",
   "language": "python",
   "name": "python3"
  },
  "language_info": {
   "codemirror_mode": {
    "name": "ipython",
    "version": 3
   },
   "file_extension": ".py",
   "mimetype": "text/x-python",
   "name": "python",
   "nbconvert_exporter": "python",
   "pygments_lexer": "ipython3",
   "version": "3.8.15"
  }
 },
 "nbformat": 4,
 "nbformat_minor": 5
}
